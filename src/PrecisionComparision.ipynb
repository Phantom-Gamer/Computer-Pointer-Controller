{
 "cells": [
  {
   "cell_type": "markdown",
   "metadata": {},
   "source": [
    "# Assess Performance:\n",
    "\n",
    "## Get Perfomance data from files"
   ]
  },
  {
   "cell_type": "code",
   "execution_count": 13,
   "metadata": {},
   "outputs": [
    {
     "name": "stdout",
     "output_type": "stream",
     "text": [
      "Inference Time : [26.6, 26.4, 26.9]\n",
      "fps : [2.218045112781955, 2.234848484848485, 2.193308550185874]\n",
      "Model Load Time : [1.6771371364593506, 1.6517729759216309, 5.205628395080566]\n"
     ]
    }
   ],
   "source": [
    "import matplotlib.pyplot as plt\n",
    "\n",
    "precision_list = ['FP16', 'FP32', 'FP32-INT8']\n",
    "inference_time = []\n",
    "model_load_time = []\n",
    "fps = []\n",
    "\n",
    "for precision in precision_list:\n",
    "    with open('results/'+precision+'/stats.txt', 'r') as f:\n",
    "        inference_time.append(float(f.readline().split('\\n')[0]))\n",
    "        fps.append(float(f.readline().split('\\n')[0]))\n",
    "        model_load_time.append(float(f.readline().split('\\n')[0]))\n",
    "\n",
    "print(\"Inference Time :\",inference_time)\n",
    "print(\"fps :\",fps)\n",
    "print(\"Model Load Time :\",model_load_time)"
   ]
  },
  {
   "cell_type": "code",
   "execution_count": 21,
   "metadata": {},
   "outputs": [
    {
     "data": {
      "image/png": "[encoded data removed]",
      "text/plain": [
       "<Figure size 432x288 with 1 Axes>"
      ]
     },
     "metadata": {
      "needs_background": "light"
     },
     "output_type": "display_data"
    }
   ],
   "source": [
    "plt.bar(precision_list, inference_time)\n",
    "plt.xlabel('Model Precision Value')\n",
    "plt.ylabel('Inference Time in seconds')\n",
    "plt.show()"
   ]
  },
  {
   "cell_type": "code",
   "execution_count": 22,
   "metadata": {},
   "outputs": [
    {
     "data": {
      "image/png": "[encoded data removed]",
      "text/plain": [
       "<Figure size 432x288 with 1 Axes>"
      ]
     },
     "metadata": {
      "needs_background": "light"
     },
     "output_type": "display_data"
    }
   ],
   "source": [
    "plt.bar(precision_list, fps)\n",
    "plt.xlabel('Model Precision Value')\n",
    "plt.ylabel('Frames per Second')\n",
    "plt.show()"
   ]
  },
  {
   "cell_type": "code",
   "execution_count": 23,
   "metadata": {},
   "outputs": [
    {
     "data": {
      "image/png": "[encoded data removed]",
      "text/plain": [
       "<Figure size 432x288 with 1 Axes>"
      ]
     },
     "metadata": {
      "needs_background": "light"
     },
     "output_type": "display_data"
    }
   ],
   "source": [
    "plt.bar(precision_list, model_load_time)\n",
    "plt.xlabel('Model Precision Value')\n",
    "plt.ylabel('Model Load Time')\n",
    "plt.show()"
   ]
  },
  {
   "cell_type": "code",
   "execution_count": null,
   "metadata": {},
   "outputs": [],
   "source": []
  },
  {
   "cell_type": "code",
   "execution_count": null,
   "metadata": {},
   "outputs": [],
   "source": []
  },
  {
   "cell_type": "code",
   "execution_count": null,
   "metadata": {},
   "outputs": [],
   "source": []
  },
  {
   "cell_type": "code",
   "execution_count": null,
   "metadata": {},
   "outputs": [],
   "source": []
  }
 ],
 "metadata": {
  "kernelspec": {
   "display_name": "Python 3",
   "language": "python",
   "name": "python3"
  },
  "language_info": {
   "codemirror_mode": {
    "name": "ipython",
    "version": 3
   },
   "file_extension": ".py",
   "mimetype": "text/x-python",
   "name": "python",
   "nbconvert_exporter": "python",
   "pygments_lexer": "ipython3",
   "version": "3.6.5"
  }
 },
 "nbformat": 4,
 "nbformat_minor": 2
}
